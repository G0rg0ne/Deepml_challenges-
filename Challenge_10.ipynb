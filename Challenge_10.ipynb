{
 "cells": [
  {
   "cell_type": "code",
   "execution_count": 1,
   "metadata": {},
   "outputs": [],
   "source": [
    "import numpy as np"
   ]
  },
  {
   "cell_type": "code",
   "execution_count": 24,
   "metadata": {},
   "outputs": [],
   "source": [
    "def calculate_covariance_matrix(vectors: list[list[float]]) -> list[list[float]]:\n",
    "    stacked_vectors = np.array(vectors)\n",
    "    # Compute covariance matrix using numpy's cov function\n",
    "    covariance_matrix = np.cov(stacked_vectors)\n",
    "    return covariance_matrix"
   ]
  },
  {
   "cell_type": "code",
   "execution_count": 32,
   "metadata": {},
   "outputs": [],
   "source": [
    "\n",
    "def calculate_covariance(v1, v2):\n",
    "    n = len(v1)\n",
    "    mean_v1 = np.mean(v1)\n",
    "    mean_v2 = np.mean(v2)\n",
    "    return np.sum((v1 - mean_v1) * (v2 - mean_v2)) / (n - 1)\n",
    "\n",
    "\n",
    "def calculate_covariance_matrix(vectors: list[list[float]]) -> list[list[float]]:\n",
    "    n = len(vectors)\n",
    "    CovM = np.zeros((n,n))\n",
    "    for i in range(n):\n",
    "        for j in range(n):\n",
    "            if i==j:\n",
    "                # Compute the variance\n",
    "                CovM[i,j] = np.sum((vectors[i] - np.mean(vectors[i])) ** 2)/(len(vectors[i]) - 1)\n",
    "            else:\n",
    "                CovM[i,j] = calculate_covariance(vectors[i], vectors[j])\n",
    "    return CovM"
   ]
  },
  {
   "cell_type": "code",
   "execution_count": 33,
   "metadata": {},
   "outputs": [
    {
     "data": {
      "text/plain": [
       "array([[1., 1.],\n",
       "       [1., 1.]])"
      ]
     },
     "execution_count": 33,
     "metadata": {},
     "output_type": "execute_result"
    }
   ],
   "source": [
    "CM = calculate_covariance_matrix(vectors = [[1, 2, 3], [4, 5, 6]])\n",
    "CM"
   ]
  }
 ],
 "metadata": {
  "kernelspec": {
   "display_name": "base",
   "language": "python",
   "name": "python3"
  },
  "language_info": {
   "codemirror_mode": {
    "name": "ipython",
    "version": 3
   },
   "file_extension": ".py",
   "mimetype": "text/x-python",
   "name": "python",
   "nbconvert_exporter": "python",
   "pygments_lexer": "ipython3",
   "version": "3.12.2"
  }
 },
 "nbformat": 4,
 "nbformat_minor": 2
}
