{
 "cells": [
  {
   "cell_type": "code",
   "execution_count": 42,
   "metadata": {},
   "outputs": [],
   "source": [
    "import numpy as np "
   ]
  },
  {
   "cell_type": "code",
   "execution_count": 43,
   "metadata": {},
   "outputs": [],
   "source": [
    "# https://fr.wikipedia.org/wiki/D%C3%A9composition_en_valeurs_singuli%C3%A8res\n",
    "# Le théorème spectral énonce qu'une matrice normale peut être diagonalisée par une base orthonormée de vecteurs propres. \n",
    "# On peut voir la décomposition en valeurs singulières comme une généralisation du théorème spectral à des matrices arbitraires, qui ne sont pas nécessairement carrées."
   ]
  },
  {
   "cell_type": "code",
   "execution_count": 44,
   "metadata": {},
   "outputs": [],
   "source": [
    "\n",
    "def compute_eigenvalues(matrix):\n",
    "    \"\"\"\n",
    "    Compute the eigenvalues of a given square matrix.\n",
    "    \n",
    "    Parameters:\n",
    "    matrix (numpy.ndarray): A square matrix of size n x n.\n",
    "    \n",
    "    Returns:\n",
    "    numpy.ndarray: The eigenvalues of the matrix.\n",
    "    \"\"\"\n",
    "    if not isinstance(matrix, np.ndarray):\n",
    "        raise ValueError(\"Input must be a numpy array.\")\n",
    "    if matrix.shape[0] != matrix.shape[1]:\n",
    "        raise ValueError(\"Input must be a square matrix.\")\n",
    "    \n",
    "    # Compute eigenvalues using numpy's eigvals function\n",
    "    eigenvalues = np.linalg.eigvals(matrix)\n",
    "    return eigenvalues\n",
    "\n",
    "def svd_2x2_singular_values(A: np.ndarray) -> tuple:\n",
    "    # Compute Gramian matrix\n",
    "    gramian_matrix = np.dot(A.T, A)\n",
    "\n",
    "    # Use eigh for symmetric matrices (more stable)\n",
    "    eigenvalues, eigenvectors = np.linalg.eigh(gramian_matrix)\n",
    "\n",
    "    # Sort eigenvalues and eigenvectors in descending order\n",
    "    idx = np.argsort(eigenvalues)[::-1]\n",
    "    eigenvalues = eigenvalues[idx]\n",
    "    eigenvectors = eigenvectors[:, idx]\n",
    "\n",
    "    # Compute singular values\n",
    "    sigma1, sigma2 = np.sqrt(eigenvalues)\n",
    "\n",
    "    # Right singular vectors (columns of V)\n",
    "    v1 = eigenvectors[:, 0]\n",
    "    v2 = eigenvectors[:, 1]\n",
    "    V = np.column_stack((v1, v2))\n",
    "\n",
    "    # Left singular vectors (U)\n",
    "    u1 = A @ v1\n",
    "    if sigma1 > 1e-10:\n",
    "        u1 /= sigma1\n",
    "    else:\n",
    "        u1[:] = 0\n",
    "\n",
    "    u2 = A @ v2\n",
    "    if sigma2 > 1e-10:\n",
    "        u2 /= sigma2\n",
    "    else:\n",
    "        u2[:] = 0\n",
    "\n",
    "    U = np.column_stack((u1, u2))\n",
    "\n",
    "    # Ensure U is orthonormal (optional orthonormalization step)\n",
    "    U, _ = np.linalg.qr(U)\n",
    "\n",
    "    # Diagonal matrix of singular values\n",
    "    Sigma = np.diag([sigma1, sigma2])\n",
    "\n",
    "    return U, Sigma, V.T"
   ]
  },
  {
   "cell_type": "code",
   "execution_count": 45,
   "metadata": {},
   "outputs": [
    {
     "name": "stdout",
     "output_type": "stream",
     "text": [
      "[[-0.70710678 -0.70710678]\n",
      " [-0.70710678  0.70710678]]\n"
     ]
    }
   ],
   "source": [
    "a = np.array([[2, 1], [1, 2]])\n",
    "U, Sigma, V = svd_2x2_singular_values(a)\n",
    "print(U)"
   ]
  },
  {
   "cell_type": "code",
   "execution_count": 46,
   "metadata": {},
   "outputs": [
    {
     "name": "stdout",
     "output_type": "stream",
     "text": [
      "[[3. 0.]\n",
      " [0. 1.]]\n"
     ]
    }
   ],
   "source": [
    "#print the values in the diagonal of the sigma matrix\n",
    "import numpy as np\n",
    "print(Sigma)"
   ]
  },
  {
   "cell_type": "code",
   "execution_count": 47,
   "metadata": {},
   "outputs": [
    {
     "name": "stdout",
     "output_type": "stream",
     "text": [
      "[[-0.70710678 -0.70710678]\n",
      " [-0.70710678  0.70710678]] [[3. 0.]\n",
      " [0. 1.]] [[ 0.70710678  0.70710678]\n",
      " [-0.70710678  0.70710678]]\n"
     ]
    }
   ],
   "source": [
    "print(U, Sigma, V)"
   ]
  }
 ],
 "metadata": {
  "kernelspec": {
   "display_name": "Python 3",
   "language": "python",
   "name": "python3"
  },
  "language_info": {
   "codemirror_mode": {
    "name": "ipython",
    "version": 3
   },
   "file_extension": ".py",
   "mimetype": "text/x-python",
   "name": "python",
   "nbconvert_exporter": "python",
   "pygments_lexer": "ipython3",
   "version": "3.11.9"
  }
 },
 "nbformat": 4,
 "nbformat_minor": 2
}
