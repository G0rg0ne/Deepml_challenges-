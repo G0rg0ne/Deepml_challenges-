{
 "cells": [
  {
   "cell_type": "code",
   "execution_count": 2,
   "metadata": {},
   "outputs": [],
   "source": [
    "import numpy as np "
   ]
  },
  {
   "cell_type": "code",
   "execution_count": null,
   "metadata": {},
   "outputs": [],
   "source": [
    "# https://fr.wikipedia.org/wiki/D%C3%A9composition_en_valeurs_singuli%C3%A8res\n",
    "# Le théorème spectral énonce qu'une matrice normale peut être diagonalisée par une base orthonormée de vecteurs propres. \n",
    "# On peut voir la décomposition en valeurs singulières comme une généralisation du théorème spectral à des matrices arbitraires, qui ne sont pas nécessairement carrées."
   ]
  },
  {
   "cell_type": "code",
   "execution_count": null,
   "metadata": {},
   "outputs": [],
   "source": [
    "\n",
    "def compute_eigenvalues(matrix):\n",
    "    \"\"\"\n",
    "    Compute the eigenvalues of a given square matrix.\n",
    "    \n",
    "    Parameters:\n",
    "    matrix (numpy.ndarray): A square matrix of size n x n.\n",
    "    \n",
    "    Returns:\n",
    "    numpy.ndarray: The eigenvalues of the matrix.\n",
    "    \"\"\"\n",
    "    if not isinstance(matrix, np.ndarray):\n",
    "        raise ValueError(\"Input must be a numpy array.\")\n",
    "    if matrix.shape[0] != matrix.shape[1]:\n",
    "        raise ValueError(\"Input must be a square matrix.\")\n",
    "    \n",
    "    # Compute eigenvalues using numpy's eigvals function\n",
    "    eigenvalues = np.linalg.eigvals(matrix)\n",
    "    return eigenvalues\n",
    "\n",
    "def svd_2x2_singular_values(A: np.ndarray) -> tuple:\n",
    "    gramian_matrix = np.dot(A.T,A)\n",
    "    eigenvalues = np.linalg.eigvals(gramian_matrix)\n",
    "    lambda1 , lambda2 =  eigenvalues\n",
    "    sigma1 = np.sqrt(lambda1)\n",
    "    sigma2 = np.sqrt(lambda2)\n",
    "    print(sigma1 , sigma2 )\n",
    "    def compute_eigenvector(lam):\n",
    "        # Solve (A^T A - lambda * I)v = 0\n",
    "        eig_matrix = gramian_matrix - lam * np.eye(2)\n",
    "        # Eigenvector corresponds to the null space of eig_matrix\n",
    "        v = np.array([-eig_matrix[0, 1], eig_matrix[0, 0]]) if eig_matrix[0, 0] != 0 else np.array([eig_matrix[1, 1], -eig_matrix[1, 0]])\n",
    "        return v / np.linalg.norm(v)\n",
    "    v1 = compute_eigenvector(lambda1)\n",
    "    v2 = compute_eigenvector(lambda2)\n",
    "    V = np.column_stack((v1, v2))\n",
    "    # Compute left singular vectors (columns of U)\n",
    "    u1 = np.dot(A, v1) / sigma1\n",
    "    u2 = np.dot(A, v2) / sigma2\n",
    "    U = np.column_stack((u1 / np.linalg.norm(u1), u2 / np.linalg.norm(u2)))\n",
    "\n",
    "    # Construct the singular value matrix\n",
    "    Sigma = np.diag([sigma1, sigma2])\n",
    "\n",
    "    return U, Sigma, V.T"
   ]
  },
  {
   "cell_type": "code",
   "execution_count": null,
   "metadata": {},
   "outputs": [
    {
     "name": "stdout",
     "output_type": "stream",
     "text": [
      "[9. 1.]\n",
      "3.0 1.0\n"
     ]
    }
   ],
   "source": [
    "a = np.array([[2, 1], [1, 2]])\n",
    "U, Sigma, V = svd_2x2_singular_values(a)\n",
    "print(U , Sigma , V)"
   ]
  }
 ],
 "metadata": {
  "kernelspec": {
   "display_name": "base",
   "language": "python",
   "name": "python3"
  },
  "language_info": {
   "codemirror_mode": {
    "name": "ipython",
    "version": 3
   },
   "file_extension": ".py",
   "mimetype": "text/x-python",
   "name": "python",
   "nbconvert_exporter": "python",
   "pygments_lexer": "ipython3",
   "version": "3.12.2"
  }
 },
 "nbformat": 4,
 "nbformat_minor": 2
}
