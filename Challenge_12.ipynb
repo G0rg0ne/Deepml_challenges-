{
 "cells": [
  {
   "cell_type": "code",
   "execution_count": 1,
   "metadata": {},
   "outputs": [],
   "source": [
    "import numpy as np "
   ]
  },
  {
   "cell_type": "code",
   "execution_count": null,
   "metadata": {},
   "outputs": [],
   "source": [
    "# https://fr.wikipedia.org/wiki/D%C3%A9composition_en_valeurs_singuli%C3%A8res\n",
    "# Le théorème spectral énonce qu'une matrice normale peut être diagonalisée par une base orthonormée de vecteurs propres. \n",
    "# On peut voir la décomposition en valeurs singulières comme une généralisation du théorème spectral à des matrices arbitraires, qui ne sont pas nécessairement carrées."
   ]
  },
  {
   "cell_type": "code",
   "execution_count": null,
   "metadata": {},
   "outputs": [],
   "source": [
    "\n",
    "def compute_eigenvalues(matrix):\n",
    "    \"\"\"\n",
    "    Compute the eigenvalues of a given square matrix.\n",
    "    \n",
    "    Parameters:\n",
    "    matrix (numpy.ndarray): A square matrix of size n x n.\n",
    "    \n",
    "    Returns:\n",
    "    numpy.ndarray: The eigenvalues of the matrix.\n",
    "    \"\"\"\n",
    "    if not isinstance(matrix, np.ndarray):\n",
    "        raise ValueError(\"Input must be a numpy array.\")\n",
    "    if matrix.shape[0] != matrix.shape[1]:\n",
    "        raise ValueError(\"Input must be a square matrix.\")\n",
    "    \n",
    "    # Compute eigenvalues using numpy's eigvals function\n",
    "    eigenvalues = np.linalg.eigvals(matrix)\n",
    "    return eigenvalues\n",
    "\n",
    "def svd_2x2_singular_values(A: np.ndarray) -> tuple:\n",
    "    gramian_matrix = np.dot(A.T,A)\n",
    "\n",
    "    return SVD"
   ]
  },
  {
   "cell_type": "code",
   "execution_count": 2,
   "metadata": {},
   "outputs": [
    {
     "data": {
      "text/plain": [
       "array([1, 5])"
      ]
     },
     "execution_count": 2,
     "metadata": {},
     "output_type": "execute_result"
    }
   ],
   "source": [
    "np.diag([[1,2],[4,5]])"
   ]
  }
 ],
 "metadata": {
  "kernelspec": {
   "display_name": "base",
   "language": "python",
   "name": "python3"
  },
  "language_info": {
   "codemirror_mode": {
    "name": "ipython",
    "version": 3
   },
   "file_extension": ".py",
   "mimetype": "text/x-python",
   "name": "python",
   "nbconvert_exporter": "python",
   "pygments_lexer": "ipython3",
   "version": "3.12.2"
  }
 },
 "nbformat": 4,
 "nbformat_minor": 2
}
