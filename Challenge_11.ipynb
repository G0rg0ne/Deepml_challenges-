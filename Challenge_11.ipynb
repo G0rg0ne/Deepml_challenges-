{
 "cells": [
  {
   "cell_type": "code",
   "execution_count": 2,
   "metadata": {},
   "outputs": [],
   "source": [
    "import numpy as np\n"
   ]
  },
  {
   "cell_type": "code",
   "execution_count": 88,
   "metadata": {},
   "outputs": [],
   "source": [
    "def solve_jacobi(A: np.ndarray, b: np.ndarray, n: int) -> list:\n",
    "    #The goal is to write A = D - E -F\n",
    "    A , b  = np.array(A) , np.array(b)\n",
    "    D =  np.diag(A.diagonal())\n",
    "    F = np.triu(A, k=1)\n",
    "    E = np.tril(A, k=-1)\n",
    "    #Simple matrix decomposition\n",
    "    M = D\n",
    "    N = E + F\n",
    "    A = M-N\n",
    "    \n",
    "    x = np.zeros(len(b)) #Init variable (can be random)\n",
    "\n",
    "    for _ in range(n):\n",
    "        x_new = np.dot(np.linalg.inv(D),  b -np.dot(N, x.T) )\n",
    "        x = x_new\n",
    "        \n",
    "    return x"
   ]
  },
  {
   "cell_type": "code",
   "execution_count": 89,
   "metadata": {},
   "outputs": [],
   "source": [
    "A = [[5, -2, 3], [-3, 9, 1], [2, -1, -7]]\n",
    "b = [-1, 2, 3]\n",
    "n=2\n",
    "output = [0.146, 0.2032, -0.5175]"
   ]
  },
  {
   "cell_type": "code",
   "execution_count": 94,
   "metadata": {},
   "outputs": [],
   "source": [
    "result = solve_jacobi(A,b,n)"
   ]
  },
  {
   "cell_type": "code",
   "execution_count": 96,
   "metadata": {},
   "outputs": [],
   "source": [
    "assert np.allclose(result, output, atol=1e-2), \"Fail!\""
   ]
  }
 ],
 "metadata": {
  "kernelspec": {
   "display_name": "base",
   "language": "python",
   "name": "python3"
  },
  "language_info": {
   "codemirror_mode": {
    "name": "ipython",
    "version": 3
   },
   "file_extension": ".py",
   "mimetype": "text/x-python",
   "name": "python",
   "nbconvert_exporter": "python",
   "pygments_lexer": "ipython3",
   "version": "3.12.2"
  }
 },
 "nbformat": 4,
 "nbformat_minor": 2
}
