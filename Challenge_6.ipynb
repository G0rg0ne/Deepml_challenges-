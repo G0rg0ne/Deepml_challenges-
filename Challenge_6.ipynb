{
 "cells": [
  {
   "cell_type": "code",
   "execution_count": 6,
   "id": "c5d35735",
   "metadata": {},
   "outputs": [],
   "source": [
    "import numpy as np\n",
    "from math import *"
   ]
  },
  {
   "cell_type": "code",
   "execution_count": null,
   "id": "a771a479",
   "metadata": {},
   "outputs": [],
   "source": [
    "def calculate_eigenvalues(matrix: list[list[float|int]]) -> list[float]:\n",
    "    delta = trace_matrix(matrix)**2 - 4 * determinant(matrix)\n",
    "    match delta:\n",
    "        case 0:\n",
    "            eigenvalues =  [trace_matrix(matrix) / 2]\n",
    "        case _:\n",
    "            eigenvalues = [\n",
    "                (trace_matrix(matrix) + np.sqrt(delta)) / 2,\n",
    "                (trace_matrix(matrix) - np.sqrt(delta)) / 2]\n",
    "    return eigenvalues\n",
    "\n",
    "def trace_matrix(matrix: list[list[float|int]]) -> float:\n",
    "    return sum(matrix[i][i] for i in range(len(matrix)))\n",
    "\n",
    "def determinant(matrix: list[list[float|int]]) -> float:\n",
    "    return matrix[0][0] * matrix[1][1] - matrix[0][1] * matrix[1][0]"
   ]
  },
  {
   "cell_type": "code",
   "execution_count": 12,
   "id": "040b15be",
   "metadata": {},
   "outputs": [
    {
     "data": {
      "text/plain": [
       "[3.0, 1.0]"
      ]
     },
     "execution_count": 12,
     "metadata": {},
     "output_type": "execute_result"
    }
   ],
   "source": [
    "matrix = [[2, 1], [1, 2]]\n",
    "calculate_eigenvalues(matrix)"
   ]
  }
 ],
 "metadata": {
  "kernelspec": {
   "display_name": "Python 3",
   "language": "python",
   "name": "python3"
  },
  "language_info": {
   "codemirror_mode": {
    "name": "ipython",
    "version": 3
   },
   "file_extension": ".py",
   "mimetype": "text/x-python",
   "name": "python",
   "nbconvert_exporter": "python",
   "pygments_lexer": "ipython3",
   "version": "3.11.9"
  }
 },
 "nbformat": 4,
 "nbformat_minor": 5
}
