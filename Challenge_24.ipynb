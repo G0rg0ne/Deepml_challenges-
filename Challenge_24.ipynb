{
 "cells": [
  {
   "cell_type": "code",
   "execution_count": 16,
   "id": "ace7b99c",
   "metadata": {},
   "outputs": [],
   "source": [
    "import math\n",
    "import numpy as np"
   ]
  },
  {
   "cell_type": "code",
   "execution_count": 17,
   "id": "4813b3fb",
   "metadata": {},
   "outputs": [],
   "source": [
    "features = [[0.5, 1.0], [-1.5, -2.0], [2.0, 1.5]]\n",
    "labels = [0, 1, 0]\n",
    "weights = [0.7, -0.4]\n",
    "bias = -0.1"
   ]
  },
  {
   "cell_type": "code",
   "execution_count": 18,
   "id": "ca3c2690",
   "metadata": {},
   "outputs": [],
   "source": [
    "def sigmoid(x: float) -> float:\n",
    "    return 1 / (1 + math.exp(-x))\n",
    "def mean_squared_error(predictions: list[float], labels: list[int]) -> float:\n",
    "    return sum((prediction - label)**2 for prediction, label in zip(predictions, labels)) / len(predictions)"
   ]
  },
  {
   "cell_type": "code",
   "execution_count": 19,
   "id": "33f99222",
   "metadata": {},
   "outputs": [],
   "source": [
    "\n",
    "def single_neuron_model(features: list[list[float]], labels: list[int], weights: list[float], bias: float) -> (list[float], float):\n",
    "\t# Your code here\n",
    "\tprobabilities= []\n",
    "\tfor feature in features:\n",
    "\t\toutput = weights[0] * feature[0] + weights[1] * feature[1] + bias\n",
    "\t\tprediction = sigmoid(output)\n",
    "\t\tprobabilities.append(prediction)\n",
    "\t\t\n",
    "\tmse = mean_squared_error(probabilities, labels)\n",
    "\treturn probabilities, mse"
   ]
  },
  {
   "cell_type": "code",
   "execution_count": 20,
   "id": "c644c9b3",
   "metadata": {},
   "outputs": [
    {
     "data": {
      "text/plain": [
       "([0.46257015465625034, 0.41338242108267, 0.668187772168166],\n",
       " 0.33485541024953136)"
      ]
     },
     "execution_count": 20,
     "metadata": {},
     "output_type": "execute_result"
    }
   ],
   "source": [
    "single_neuron_model(features,labels,weights,bias)"
   ]
  },
  {
   "cell_type": "code",
   "execution_count": null,
   "id": "8ab19375",
   "metadata": {},
   "outputs": [],
   "source": []
  }
 ],
 "metadata": {
  "kernelspec": {
   "display_name": "Python 3",
   "language": "python",
   "name": "python3"
  },
  "language_info": {
   "codemirror_mode": {
    "name": "ipython",
    "version": 3
   },
   "file_extension": ".py",
   "mimetype": "text/x-python",
   "name": "python",
   "nbconvert_exporter": "python",
   "pygments_lexer": "ipython3",
   "version": "3.11.9"
  }
 },
 "nbformat": 4,
 "nbformat_minor": 5
}
