{
 "cells": [
  {
   "cell_type": "code",
   "execution_count": null,
   "id": "6b2beb6a",
   "metadata": {},
   "outputs": [],
   "source": []
  },
  {
   "cell_type": "code",
   "execution_count": 2,
   "id": "b9197604",
   "metadata": {},
   "outputs": [
    {
     "name": "stdout",
     "output_type": "stream",
     "text": [
      "[[2, 4, 6], [8, 10, 12]]\n"
     ]
    }
   ],
   "source": [
    "def scalar_multiply(matrix: list[list[int|float]], scalar: int|float) -> list[list[int|float]]:\n",
    "    result = []\n",
    "    for row in matrix:\n",
    "        scaled_row = []\n",
    "        for element in row:\n",
    "            scaled_row.append(element * scalar)\n",
    "        result.append(scaled_row)\n",
    "    return result\n",
    "\n",
    "print(scalar_multiply([[1, 2, 3], [4, 5, 6]], 2))\n"
   ]
  },
  {
   "cell_type": "code",
   "execution_count": null,
   "id": "7b581770",
   "metadata": {},
   "outputs": [],
   "source": []
  }
 ],
 "metadata": {
  "kernelspec": {
   "display_name": "Python 3",
   "language": "python",
   "name": "python3"
  },
  "language_info": {
   "codemirror_mode": {
    "name": "ipython",
    "version": 3
   },
   "file_extension": ".py",
   "mimetype": "text/x-python",
   "name": "python",
   "nbconvert_exporter": "python",
   "pygments_lexer": "ipython3",
   "version": "3.11.9"
  }
 },
 "nbformat": 4,
 "nbformat_minor": 5
}
