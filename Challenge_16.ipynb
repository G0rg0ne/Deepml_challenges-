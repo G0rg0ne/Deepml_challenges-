{
 "cells": [
  {
   "cell_type": "code",
   "execution_count": 2,
   "metadata": {},
   "outputs": [],
   "source": [
    "import numpy as np"
   ]
  },
  {
   "cell_type": "code",
   "execution_count": 21,
   "metadata": {},
   "outputs": [],
   "source": [
    "def feature_scaling(data: np.ndarray) -> (np.ndarray, np.ndarray):\n",
    "\t# Your code here\n",
    "    n,m = data.shape\n",
    "    standardized_data= np.zeros((n,m))\n",
    "    normalized_data= np.zeros((n,m))\n",
    "    for i in range(m):\n",
    "        sigma = np.mean(data[:,i])\n",
    "        std = np.std(data[:,i])\n",
    "        standardized_data[:,i] = (data[:,i]-sigma)/std\n",
    "        normalized_data[:,i] = (data[:,i]-np.min(data[:,i]))/(np.max(data[:,i])-np.min(data[:,i]))\n",
    "    return standardized_data, normalized_data"
   ]
  },
  {
   "cell_type": "code",
   "execution_count": 17,
   "metadata": {},
   "outputs": [],
   "source": [
    "data = np.array([[1, 2], [3, 4], [5, 6]])"
   ]
  },
  {
   "cell_type": "code",
   "execution_count": 22,
   "metadata": {},
   "outputs": [],
   "source": [
    "result = feature_scaling(data)"
   ]
  },
  {
   "cell_type": "code",
   "execution_count": 23,
   "metadata": {},
   "outputs": [
    {
     "data": {
      "text/plain": [
       "(array([[-1.22474487, -1.22474487],\n",
       "        [ 0.        ,  0.        ],\n",
       "        [ 1.22474487,  1.22474487]]),\n",
       " array([[0. , 0. ],\n",
       "        [0.5, 0.5],\n",
       "        [1. , 1. ]]))"
      ]
     },
     "execution_count": 23,
     "metadata": {},
     "output_type": "execute_result"
    }
   ],
   "source": [
    "result"
   ]
  }
 ],
 "metadata": {
  "kernelspec": {
   "display_name": "Python 3",
   "language": "python",
   "name": "python3"
  },
  "language_info": {
   "codemirror_mode": {
    "name": "ipython",
    "version": 3
   },
   "file_extension": ".py",
   "mimetype": "text/x-python",
   "name": "python",
   "nbconvert_exporter": "python",
   "pygments_lexer": "ipython3",
   "version": "3.11.9"
  }
 },
 "nbformat": 4,
 "nbformat_minor": 2
}
